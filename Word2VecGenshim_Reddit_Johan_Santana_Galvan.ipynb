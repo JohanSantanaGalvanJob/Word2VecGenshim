{
  "nbformat": 4,
  "nbformat_minor": 0,
  "metadata": {
    "colab": {
      "provenance": [],
      "authorship_tag": "ABX9TyNIsBs0t0QLyP7Jqb1gBM4e",
      "include_colab_link": true
    },
    "kernelspec": {
      "name": "python3",
      "display_name": "Python 3"
    },
    "language_info": {
      "name": "python"
    }
  },
  "cells": [
    {
      "cell_type": "markdown",
      "metadata": {
        "id": "view-in-github",
        "colab_type": "text"
      },
      "source": [
        "<a href=\"https://colab.research.google.com/github/JohanSantanaGalvanJob/Word2VecGenshim/blob/main/Word2VecGenshim_Reddit_Johan_Santana_Galvan.ipynb\" target=\"_parent\"><img src=\"https://colab.research.google.com/assets/colab-badge.svg\" alt=\"Open In Colab\"/></a>"
      ]
    },
    {
      "cell_type": "markdown",
      "source": [
        "Johan Santana Galván"
      ],
      "metadata": {
        "id": "0Q5n3ANFoDjA"
      }
    },
    {
      "cell_type": "markdown",
      "source": [
        "Importamos las librerías"
      ],
      "metadata": {
        "id": "WUMfs_oUoGM-"
      }
    },
    {
      "cell_type": "code",
      "execution_count": 1,
      "metadata": {
        "id": "bga98GrnnDwB"
      },
      "outputs": [],
      "source": [
        "import numpy as np\n",
        "import pandas as pd\n",
        "import matplotlib.pyplot as plt\n",
        "from gensim.models import Word2Vec, KeyedVectors\n",
        "import nltk"
      ]
    },
    {
      "cell_type": "markdown",
      "source": [
        "Vamos a leer el csv que me he traído desde mi perfil de Github"
      ],
      "metadata": {
        "id": "1BY9EZw-oPzV"
      }
    },
    {
      "cell_type": "code",
      "source": [
        "df = pd.read_csv(\"https://raw.githubusercontent.com/JohanSantanaGalvanJob/Word2VecGenshim/main/reddit_worldnews_start_to_2016-11-22.csv\")\n",
        "\n",
        "df"
      ],
      "metadata": {
        "colab": {
          "base_uri": "https://localhost:8080/",
          "height": 423
        },
        "id": "y5TnJNappXhw",
        "outputId": "ac785f90-7ae0-412c-ef14-797d7feda779"
      },
      "execution_count": 2,
      "outputs": [
        {
          "output_type": "execute_result",
          "data": {
            "text/plain": [
              "        time_created date_created  up_votes  down_votes  \\\n",
              "0         1201232046   2008-01-25         3           0   \n",
              "1         1201232075   2008-01-25         2           0   \n",
              "2         1201232523   2008-01-25         3           0   \n",
              "3         1201233290   2008-01-25         1           0   \n",
              "4         1201274720   2008-01-25         4           0   \n",
              "...              ...          ...       ...         ...   \n",
              "509231    1479816764   2016-11-22         5           0   \n",
              "509232    1479816772   2016-11-22         1           0   \n",
              "509233    1479817056   2016-11-22         1           0   \n",
              "509234    1479817157   2016-11-22         1           0   \n",
              "509235    1479817346   2016-11-22         1           0   \n",
              "\n",
              "                                                    title  over_18  \\\n",
              "0                       Scores killed in Pakistan clashes    False   \n",
              "1                        Japan resumes refuelling mission    False   \n",
              "2                         US presses Egypt on Gaza border    False   \n",
              "3            Jump-start economy: Give health care to all     False   \n",
              "4         Council of Europe bashes EU&UN terror blacklist    False   \n",
              "...                                                   ...      ...   \n",
              "509231   Heil Trump : Donald Trump s  alt-right  white...    False   \n",
              "509232  There are people speculating that this could b...    False   \n",
              "509233          Professor receives Arab Researchers Award    False   \n",
              "509234  Nigel Farage attacks response to Trump ambassa...    False   \n",
              "509235  Palestinian wielding knife shot dead in West B...    False   \n",
              "\n",
              "               author  subreddit  \n",
              "0               polar  worldnews  \n",
              "1               polar  worldnews  \n",
              "2               polar  worldnews  \n",
              "3             fadi420  worldnews  \n",
              "4            mhermans  worldnews  \n",
              "...               ...        ...  \n",
              "509231  nonamenoglory  worldnews  \n",
              "509232      SummerRay  worldnews  \n",
              "509233      AUSharjah  worldnews  \n",
              "509234    smilyflower  worldnews  \n",
              "509235     superislam  worldnews  \n",
              "\n",
              "[509236 rows x 8 columns]"
            ],
            "text/html": [
              "\n",
              "  <div id=\"df-88a35c7c-30a3-43d7-8c2e-5307c2a00f7c\" class=\"colab-df-container\">\n",
              "    <div>\n",
              "<style scoped>\n",
              "    .dataframe tbody tr th:only-of-type {\n",
              "        vertical-align: middle;\n",
              "    }\n",
              "\n",
              "    .dataframe tbody tr th {\n",
              "        vertical-align: top;\n",
              "    }\n",
              "\n",
              "    .dataframe thead th {\n",
              "        text-align: right;\n",
              "    }\n",
              "</style>\n",
              "<table border=\"1\" class=\"dataframe\">\n",
              "  <thead>\n",
              "    <tr style=\"text-align: right;\">\n",
              "      <th></th>\n",
              "      <th>time_created</th>\n",
              "      <th>date_created</th>\n",
              "      <th>up_votes</th>\n",
              "      <th>down_votes</th>\n",
              "      <th>title</th>\n",
              "      <th>over_18</th>\n",
              "      <th>author</th>\n",
              "      <th>subreddit</th>\n",
              "    </tr>\n",
              "  </thead>\n",
              "  <tbody>\n",
              "    <tr>\n",
              "      <th>0</th>\n",
              "      <td>1201232046</td>\n",
              "      <td>2008-01-25</td>\n",
              "      <td>3</td>\n",
              "      <td>0</td>\n",
              "      <td>Scores killed in Pakistan clashes</td>\n",
              "      <td>False</td>\n",
              "      <td>polar</td>\n",
              "      <td>worldnews</td>\n",
              "    </tr>\n",
              "    <tr>\n",
              "      <th>1</th>\n",
              "      <td>1201232075</td>\n",
              "      <td>2008-01-25</td>\n",
              "      <td>2</td>\n",
              "      <td>0</td>\n",
              "      <td>Japan resumes refuelling mission</td>\n",
              "      <td>False</td>\n",
              "      <td>polar</td>\n",
              "      <td>worldnews</td>\n",
              "    </tr>\n",
              "    <tr>\n",
              "      <th>2</th>\n",
              "      <td>1201232523</td>\n",
              "      <td>2008-01-25</td>\n",
              "      <td>3</td>\n",
              "      <td>0</td>\n",
              "      <td>US presses Egypt on Gaza border</td>\n",
              "      <td>False</td>\n",
              "      <td>polar</td>\n",
              "      <td>worldnews</td>\n",
              "    </tr>\n",
              "    <tr>\n",
              "      <th>3</th>\n",
              "      <td>1201233290</td>\n",
              "      <td>2008-01-25</td>\n",
              "      <td>1</td>\n",
              "      <td>0</td>\n",
              "      <td>Jump-start economy: Give health care to all</td>\n",
              "      <td>False</td>\n",
              "      <td>fadi420</td>\n",
              "      <td>worldnews</td>\n",
              "    </tr>\n",
              "    <tr>\n",
              "      <th>4</th>\n",
              "      <td>1201274720</td>\n",
              "      <td>2008-01-25</td>\n",
              "      <td>4</td>\n",
              "      <td>0</td>\n",
              "      <td>Council of Europe bashes EU&amp;UN terror blacklist</td>\n",
              "      <td>False</td>\n",
              "      <td>mhermans</td>\n",
              "      <td>worldnews</td>\n",
              "    </tr>\n",
              "    <tr>\n",
              "      <th>...</th>\n",
              "      <td>...</td>\n",
              "      <td>...</td>\n",
              "      <td>...</td>\n",
              "      <td>...</td>\n",
              "      <td>...</td>\n",
              "      <td>...</td>\n",
              "      <td>...</td>\n",
              "      <td>...</td>\n",
              "    </tr>\n",
              "    <tr>\n",
              "      <th>509231</th>\n",
              "      <td>1479816764</td>\n",
              "      <td>2016-11-22</td>\n",
              "      <td>5</td>\n",
              "      <td>0</td>\n",
              "      <td>Heil Trump : Donald Trump s  alt-right  white...</td>\n",
              "      <td>False</td>\n",
              "      <td>nonamenoglory</td>\n",
              "      <td>worldnews</td>\n",
              "    </tr>\n",
              "    <tr>\n",
              "      <th>509232</th>\n",
              "      <td>1479816772</td>\n",
              "      <td>2016-11-22</td>\n",
              "      <td>1</td>\n",
              "      <td>0</td>\n",
              "      <td>There are people speculating that this could b...</td>\n",
              "      <td>False</td>\n",
              "      <td>SummerRay</td>\n",
              "      <td>worldnews</td>\n",
              "    </tr>\n",
              "    <tr>\n",
              "      <th>509233</th>\n",
              "      <td>1479817056</td>\n",
              "      <td>2016-11-22</td>\n",
              "      <td>1</td>\n",
              "      <td>0</td>\n",
              "      <td>Professor receives Arab Researchers Award</td>\n",
              "      <td>False</td>\n",
              "      <td>AUSharjah</td>\n",
              "      <td>worldnews</td>\n",
              "    </tr>\n",
              "    <tr>\n",
              "      <th>509234</th>\n",
              "      <td>1479817157</td>\n",
              "      <td>2016-11-22</td>\n",
              "      <td>1</td>\n",
              "      <td>0</td>\n",
              "      <td>Nigel Farage attacks response to Trump ambassa...</td>\n",
              "      <td>False</td>\n",
              "      <td>smilyflower</td>\n",
              "      <td>worldnews</td>\n",
              "    </tr>\n",
              "    <tr>\n",
              "      <th>509235</th>\n",
              "      <td>1479817346</td>\n",
              "      <td>2016-11-22</td>\n",
              "      <td>1</td>\n",
              "      <td>0</td>\n",
              "      <td>Palestinian wielding knife shot dead in West B...</td>\n",
              "      <td>False</td>\n",
              "      <td>superislam</td>\n",
              "      <td>worldnews</td>\n",
              "    </tr>\n",
              "  </tbody>\n",
              "</table>\n",
              "<p>509236 rows × 8 columns</p>\n",
              "</div>\n",
              "    <div class=\"colab-df-buttons\">\n",
              "\n",
              "  <div class=\"colab-df-container\">\n",
              "    <button class=\"colab-df-convert\" onclick=\"convertToInteractive('df-88a35c7c-30a3-43d7-8c2e-5307c2a00f7c')\"\n",
              "            title=\"Convert this dataframe to an interactive table.\"\n",
              "            style=\"display:none;\">\n",
              "\n",
              "  <svg xmlns=\"http://www.w3.org/2000/svg\" height=\"24px\" viewBox=\"0 -960 960 960\">\n",
              "    <path d=\"M120-120v-720h720v720H120Zm60-500h600v-160H180v160Zm220 220h160v-160H400v160Zm0 220h160v-160H400v160ZM180-400h160v-160H180v160Zm440 0h160v-160H620v160ZM180-180h160v-160H180v160Zm440 0h160v-160H620v160Z\"/>\n",
              "  </svg>\n",
              "    </button>\n",
              "\n",
              "  <style>\n",
              "    .colab-df-container {\n",
              "      display:flex;\n",
              "      gap: 12px;\n",
              "    }\n",
              "\n",
              "    .colab-df-convert {\n",
              "      background-color: #E8F0FE;\n",
              "      border: none;\n",
              "      border-radius: 50%;\n",
              "      cursor: pointer;\n",
              "      display: none;\n",
              "      fill: #1967D2;\n",
              "      height: 32px;\n",
              "      padding: 0 0 0 0;\n",
              "      width: 32px;\n",
              "    }\n",
              "\n",
              "    .colab-df-convert:hover {\n",
              "      background-color: #E2EBFA;\n",
              "      box-shadow: 0px 1px 2px rgba(60, 64, 67, 0.3), 0px 1px 3px 1px rgba(60, 64, 67, 0.15);\n",
              "      fill: #174EA6;\n",
              "    }\n",
              "\n",
              "    .colab-df-buttons div {\n",
              "      margin-bottom: 4px;\n",
              "    }\n",
              "\n",
              "    [theme=dark] .colab-df-convert {\n",
              "      background-color: #3B4455;\n",
              "      fill: #D2E3FC;\n",
              "    }\n",
              "\n",
              "    [theme=dark] .colab-df-convert:hover {\n",
              "      background-color: #434B5C;\n",
              "      box-shadow: 0px 1px 3px 1px rgba(0, 0, 0, 0.15);\n",
              "      filter: drop-shadow(0px 1px 2px rgba(0, 0, 0, 0.3));\n",
              "      fill: #FFFFFF;\n",
              "    }\n",
              "  </style>\n",
              "\n",
              "    <script>\n",
              "      const buttonEl =\n",
              "        document.querySelector('#df-88a35c7c-30a3-43d7-8c2e-5307c2a00f7c button.colab-df-convert');\n",
              "      buttonEl.style.display =\n",
              "        google.colab.kernel.accessAllowed ? 'block' : 'none';\n",
              "\n",
              "      async function convertToInteractive(key) {\n",
              "        const element = document.querySelector('#df-88a35c7c-30a3-43d7-8c2e-5307c2a00f7c');\n",
              "        const dataTable =\n",
              "          await google.colab.kernel.invokeFunction('convertToInteractive',\n",
              "                                                    [key], {});\n",
              "        if (!dataTable) return;\n",
              "\n",
              "        const docLinkHtml = 'Like what you see? Visit the ' +\n",
              "          '<a target=\"_blank\" href=https://colab.research.google.com/notebooks/data_table.ipynb>data table notebook</a>'\n",
              "          + ' to learn more about interactive tables.';\n",
              "        element.innerHTML = '';\n",
              "        dataTable['output_type'] = 'display_data';\n",
              "        await google.colab.output.renderOutput(dataTable, element);\n",
              "        const docLink = document.createElement('div');\n",
              "        docLink.innerHTML = docLinkHtml;\n",
              "        element.appendChild(docLink);\n",
              "      }\n",
              "    </script>\n",
              "  </div>\n",
              "\n",
              "\n",
              "<div id=\"df-a391df83-68f3-4f26-ba24-e29d4273f58f\">\n",
              "  <button class=\"colab-df-quickchart\" onclick=\"quickchart('df-a391df83-68f3-4f26-ba24-e29d4273f58f')\"\n",
              "            title=\"Suggest charts\"\n",
              "            style=\"display:none;\">\n",
              "\n",
              "<svg xmlns=\"http://www.w3.org/2000/svg\" height=\"24px\"viewBox=\"0 0 24 24\"\n",
              "     width=\"24px\">\n",
              "    <g>\n",
              "        <path d=\"M19 3H5c-1.1 0-2 .9-2 2v14c0 1.1.9 2 2 2h14c1.1 0 2-.9 2-2V5c0-1.1-.9-2-2-2zM9 17H7v-7h2v7zm4 0h-2V7h2v10zm4 0h-2v-4h2v4z\"/>\n",
              "    </g>\n",
              "</svg>\n",
              "  </button>\n",
              "\n",
              "<style>\n",
              "  .colab-df-quickchart {\n",
              "      --bg-color: #E8F0FE;\n",
              "      --fill-color: #1967D2;\n",
              "      --hover-bg-color: #E2EBFA;\n",
              "      --hover-fill-color: #174EA6;\n",
              "      --disabled-fill-color: #AAA;\n",
              "      --disabled-bg-color: #DDD;\n",
              "  }\n",
              "\n",
              "  [theme=dark] .colab-df-quickchart {\n",
              "      --bg-color: #3B4455;\n",
              "      --fill-color: #D2E3FC;\n",
              "      --hover-bg-color: #434B5C;\n",
              "      --hover-fill-color: #FFFFFF;\n",
              "      --disabled-bg-color: #3B4455;\n",
              "      --disabled-fill-color: #666;\n",
              "  }\n",
              "\n",
              "  .colab-df-quickchart {\n",
              "    background-color: var(--bg-color);\n",
              "    border: none;\n",
              "    border-radius: 50%;\n",
              "    cursor: pointer;\n",
              "    display: none;\n",
              "    fill: var(--fill-color);\n",
              "    height: 32px;\n",
              "    padding: 0;\n",
              "    width: 32px;\n",
              "  }\n",
              "\n",
              "  .colab-df-quickchart:hover {\n",
              "    background-color: var(--hover-bg-color);\n",
              "    box-shadow: 0 1px 2px rgba(60, 64, 67, 0.3), 0 1px 3px 1px rgba(60, 64, 67, 0.15);\n",
              "    fill: var(--button-hover-fill-color);\n",
              "  }\n",
              "\n",
              "  .colab-df-quickchart-complete:disabled,\n",
              "  .colab-df-quickchart-complete:disabled:hover {\n",
              "    background-color: var(--disabled-bg-color);\n",
              "    fill: var(--disabled-fill-color);\n",
              "    box-shadow: none;\n",
              "  }\n",
              "\n",
              "  .colab-df-spinner {\n",
              "    border: 2px solid var(--fill-color);\n",
              "    border-color: transparent;\n",
              "    border-bottom-color: var(--fill-color);\n",
              "    animation:\n",
              "      spin 1s steps(1) infinite;\n",
              "  }\n",
              "\n",
              "  @keyframes spin {\n",
              "    0% {\n",
              "      border-color: transparent;\n",
              "      border-bottom-color: var(--fill-color);\n",
              "      border-left-color: var(--fill-color);\n",
              "    }\n",
              "    20% {\n",
              "      border-color: transparent;\n",
              "      border-left-color: var(--fill-color);\n",
              "      border-top-color: var(--fill-color);\n",
              "    }\n",
              "    30% {\n",
              "      border-color: transparent;\n",
              "      border-left-color: var(--fill-color);\n",
              "      border-top-color: var(--fill-color);\n",
              "      border-right-color: var(--fill-color);\n",
              "    }\n",
              "    40% {\n",
              "      border-color: transparent;\n",
              "      border-right-color: var(--fill-color);\n",
              "      border-top-color: var(--fill-color);\n",
              "    }\n",
              "    60% {\n",
              "      border-color: transparent;\n",
              "      border-right-color: var(--fill-color);\n",
              "    }\n",
              "    80% {\n",
              "      border-color: transparent;\n",
              "      border-right-color: var(--fill-color);\n",
              "      border-bottom-color: var(--fill-color);\n",
              "    }\n",
              "    90% {\n",
              "      border-color: transparent;\n",
              "      border-bottom-color: var(--fill-color);\n",
              "    }\n",
              "  }\n",
              "</style>\n",
              "\n",
              "  <script>\n",
              "    async function quickchart(key) {\n",
              "      const quickchartButtonEl =\n",
              "        document.querySelector('#' + key + ' button');\n",
              "      quickchartButtonEl.disabled = true;  // To prevent multiple clicks.\n",
              "      quickchartButtonEl.classList.add('colab-df-spinner');\n",
              "      try {\n",
              "        const charts = await google.colab.kernel.invokeFunction(\n",
              "            'suggestCharts', [key], {});\n",
              "      } catch (error) {\n",
              "        console.error('Error during call to suggestCharts:', error);\n",
              "      }\n",
              "      quickchartButtonEl.classList.remove('colab-df-spinner');\n",
              "      quickchartButtonEl.classList.add('colab-df-quickchart-complete');\n",
              "    }\n",
              "    (() => {\n",
              "      let quickchartButtonEl =\n",
              "        document.querySelector('#df-a391df83-68f3-4f26-ba24-e29d4273f58f button');\n",
              "      quickchartButtonEl.style.display =\n",
              "        google.colab.kernel.accessAllowed ? 'block' : 'none';\n",
              "    })();\n",
              "  </script>\n",
              "</div>\n",
              "    </div>\n",
              "  </div>\n"
            ],
            "application/vnd.google.colaboratory.intrinsic+json": {
              "type": "dataframe",
              "variable_name": "df"
            }
          },
          "metadata": {},
          "execution_count": 2
        }
      ]
    },
    {
      "cell_type": "markdown",
      "source": [
        "Lo siguiente que haremos será tomar todos los valores de la columna de título."
      ],
      "metadata": {
        "id": "me3uTOwAoWP9"
      }
    },
    {
      "cell_type": "code",
      "source": [
        "newsTitles = df['title'].values"
      ],
      "metadata": {
        "id": "74TjV3HV-GAY"
      },
      "execution_count": 3,
      "outputs": []
    },
    {
      "cell_type": "markdown",
      "source": [
        "Ahora lo que haremos será descargar punkt para \"tokenizar\" las palabras. Solo se debe hacer una vez."
      ],
      "metadata": {
        "id": "PvImwGOlAqZH"
      }
    },
    {
      "cell_type": "code",
      "source": [
        "# Solo una vez\n",
        "nltk.download('punkt')"
      ],
      "metadata": {
        "colab": {
          "base_uri": "https://localhost:8080/"
        },
        "id": "4--Fs2dg-Nx4",
        "outputId": "e403696b-f696-4650-db16-ecc55b039a62"
      },
      "execution_count": 4,
      "outputs": [
        {
          "output_type": "stream",
          "name": "stderr",
          "text": [
            "[nltk_data] Downloading package punkt to /root/nltk_data...\n",
            "[nltk_data]   Unzipping tokenizers/punkt.zip.\n"
          ]
        },
        {
          "output_type": "execute_result",
          "data": {
            "text/plain": [
              "True"
            ]
          },
          "metadata": {},
          "execution_count": 4
        }
      ]
    },
    {
      "cell_type": "markdown",
      "source": [
        "Vamos a tokenizar las palabras extraídas de la columna de title y la tomamos como array."
      ],
      "metadata": {
        "id": "92EBjoMaBOhz"
      }
    },
    {
      "cell_type": "code",
      "source": [
        "newsVec = [nltk.word_tokenize(title) for title in newsTitles]"
      ],
      "metadata": {
        "id": "y8sL6vC5-oWz"
      },
      "execution_count": 5,
      "outputs": []
    },
    {
      "cell_type": "markdown",
      "source": [
        "Este proceso no es realmente necesario, ya que Gensim transformará ese texto tokenizado a texto normal.\n",
        "\n",
        "Ahora lo que haremos será decir cuál es el mínimo de letras que se han de tener para que una palabra sea considerada un vector, y luego el tamaño del vector (en nuestro caso 32)."
      ],
      "metadata": {
        "id": "On23nqaVBzOi"
      }
    },
    {
      "cell_type": "code",
      "source": [
        "model = Word2Vec(newsVec, min_count=1, vector_size=32)"
      ],
      "metadata": {
        "id": "OCRPQw4F_FDz"
      },
      "execution_count": null,
      "outputs": []
    },
    {
      "cell_type": "markdown",
      "source": [
        "Ahora con el modelo entrenado vamos a proceder a buscar las palabras que estén más relacionadas con man:"
      ],
      "metadata": {
        "id": "gVSjzM19EJxY"
      }
    },
    {
      "cell_type": "code",
      "source": [
        "model.wv.most_similar('man')"
      ],
      "metadata": {
        "colab": {
          "base_uri": "https://localhost:8080/"
        },
        "id": "pfjhPhUq_paP",
        "outputId": "5b466a30-5ea3-4433-ac1d-c49a79c3450c"
      },
      "execution_count": null,
      "outputs": [
        {
          "output_type": "execute_result",
          "data": {
            "text/plain": [
              "[('woman', 0.9683701992034912),\n",
              " ('boy', 0.921718955039978),\n",
              " ('girl', 0.9166771173477173),\n",
              " ('teenager', 0.892189621925354),\n",
              " ('mother', 0.8848469853401184),\n",
              " ('couple', 0.8800906538963318),\n",
              " ('doctor', 0.8569018840789795),\n",
              " ('teacher', 0.8487440943717957),\n",
              " ('father', 0.8484586477279663),\n",
              " ('husband', 0.8300129175186157)]"
            ]
          },
          "metadata": {},
          "execution_count": 14
        }
      ]
    },
    {
      "cell_type": "markdown",
      "source": [
        "Lo que haremos en este caso es decir que la resta de king con man y su posterior suma de woman nos darán resultados de la realeza pero en el ámbito femenino:"
      ],
      "metadata": {
        "id": "nqDcflFDEQ6n"
      }
    },
    {
      "cell_type": "code",
      "source": [
        "vec = model.wv['king'] - model.wv['man'] + model.wv['woman']\n",
        "model.wv.most_similar([vec])"
      ],
      "metadata": {
        "colab": {
          "base_uri": "https://localhost:8080/"
        },
        "id": "Z7Fj5kzDByj7",
        "outputId": "1db34d08-e274-447c-c29a-013087deaf64"
      },
      "execution_count": null,
      "outputs": [
        {
          "output_type": "execute_result",
          "data": {
            "text/plain": [
              "[('king', 0.9480740427970886),\n",
              " ('prince', 0.8567677140235901),\n",
              " ('blogger', 0.7937600016593933),\n",
              " ('monarchy', 0.7489883899688721),\n",
              " ('cleric', 0.7471719980239868),\n",
              " ('activist', 0.74566251039505),\n",
              " ('King', 0.7198561429977417),\n",
              " ('princess', 0.7184657454490662),\n",
              " ('woman', 0.7158467173576355),\n",
              " ('politician', 0.7123843431472778)]"
            ]
          },
          "metadata": {},
          "execution_count": 17
        }
      ]
    }
  ]
}